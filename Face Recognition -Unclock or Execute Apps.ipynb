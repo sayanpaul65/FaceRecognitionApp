{
 "cells": [
  {
   "cell_type": "markdown",
   "metadata": {},
   "source": [
    "## Face Recognition – System Security!"
   ]
  },
  {
   "cell_type": "markdown",
   "metadata": {},
   "source": [
    "\n",
    "### Step 1 - Importing Module and functions"
   ]
  },
  {
   "cell_type": "code",
   "execution_count": 1,
   "metadata": {},
   "outputs": [],
   "source": [
    "import cv2\n",
    "import numpy as np  \n",
    "import time\n",
    "\n",
    "\n",
    "def mail():\n",
    "    import smtplib\n",
    "    import imghdr\n",
    "    from email.message import EmailMessage\n",
    "\n",
    "  \n",
    "    Sender_Email = \"XXXXXXXXXXXX@gmail.com\"\n",
    "  \n",
    "    Reciever_Email = \"XXXXXXXXXXgmail.com\"\n",
    "\n",
    "    Password = \"XXXXXXXXXXXX\"\n",
    "    \n",
    "\n",
    "    newMessage = EmailMessage()                         \n",
    "    newMessage['Subject'] = \"Alert Message.\" \n",
    "    newMessage['From'] = Sender_Email                   \n",
    "    newMessage['To'] = Reciever_Email                   \n",
    "    newMessage.set_content('Security alert: face Detected. Someone is trying to use your system please check the face..') \n",
    "\n",
    "    with open('./faces/elon/1.jpg', 'rb') as f:\n",
    "        image_data = f.read()\n",
    "        image_type = imghdr.what(f.name)\n",
    "        image_name = f.name\n",
    "\n",
    "    newMessage.add_attachment(image_data, maintype='image', subtype=image_type, filename=image_name)\n",
    "\n",
    "    with smtplib.SMTP_SSL('smtp.gmail.com', 465) as smtp:\n",
    "\n",
    "        smtp.login(Sender_Email, Password)              \n",
    "        smtp.send_message(newMessage) \n",
    "\n",
    "    print(\"\\t\\t\\t\\n======================= Mail Successfully Sended ==================================\\n\")\n",
    "    \n",
    "\n",
    "def whatsapp():\n",
    "    \n",
    "    from twilio.rest import Client \n",
    "\n",
    "    account_sid = 'AC1fbe175cdc053d4041550498176e2540' \n",
    "    auth_token = '06f711d33b440c40f93bc3a8e21a1a83' \n",
    "    client = Client(account_sid, auth_token) \n",
    "\n",
    "    message = client.messages.create( \n",
    "                                  from_='whatsapp:+14155238886',  \n",
    "                                  body='Happy Alert!! Elon was trying to use you system apps',      \n",
    "                                  to='whatsapp:+91XXXXXXXXXX' \n",
    "                              ) \n",
    "    \n",
    "\n",
    "    print(\"Message Sent Successfully..\")\n",
    "    \n"
   ]
  },
  {
   "cell_type": "markdown",
   "metadata": {},
   "source": [
    "### Step 2 - Collection of sample data"
   ]
  },
  {
   "cell_type": "code",
   "execution_count": null,
   "metadata": {},
   "outputs": [],
   "source": [
    "# for that use collection_sample.ipyng"
   ]
  },
  {
   "cell_type": "markdown",
   "metadata": {},
   "source": [
    "### Step 3 - Train Model"
   ]
  },
  {
   "cell_type": "code",
   "execution_count": 2,
   "metadata": {},
   "outputs": [
    {
     "name": "stdout",
     "output_type": "stream",
     "text": [
      "Model#1 trained sucessefully\n"
     ]
    }
   ],
   "source": [
    "import cv2\n",
    "import numpy as np\n",
    "from os import listdir\n",
    "from os.path import isfile, join\n",
    "\n",
    "\n",
    "# Get the training data we previously made\n",
    "data_path = './faces/elon/'\n",
    "onlyfiles = [f for f in listdir(data_path) if isfile(join(data_path, f))]\n",
    "\n",
    "# Create arrays for training data and labels\n",
    "Training_Data, Labels = [], []\n",
    "\n",
    "# Open training images in our datapath\n",
    "# Create a numpy array for training data\n",
    "for i, files in enumerate(onlyfiles):\n",
    "    image_path = data_path + onlyfiles[i]\n",
    "    images = cv2.imread(image_path, cv2.IMREAD_GRAYSCALE)\n",
    "    Training_Data.append(np.asarray(images, dtype=np.uint8))\n",
    "    Labels.append(i)\n",
    "\n",
    "# Create a numpy array for both training data and labels\n",
    "Labels = np.asarray(Labels, dtype=np.int32)\n",
    "\n",
    "# Initialize facial recognizer\n",
    "# model = cv2.face.createLBPHFaceRecognizer()\n",
    "# NOTE: For OpenCV 3.0 use cv2.face.createLBPHFaceRecognizer()\n",
    "# pip install opencv-contrib-python\n",
    "# model = cv2.createLBPHFaceRecognizer()\n",
    "\n",
    "elon_model  = cv2.face_LBPHFaceRecognizer.create()\n",
    "# Let's train our model \n",
    "elon_model.train(np.asarray(Training_Data), np.asarray(Labels))\n",
    "print(\"Model#1 trained sucessefully\")\n"
   ]
  },
  {
   "cell_type": "code",
   "execution_count": 3,
   "metadata": {},
   "outputs": [
    {
     "name": "stdout",
     "output_type": "stream",
     "text": [
      "Model#2 trained sucessefully\n"
     ]
    }
   ],
   "source": [
    "import cv2\n",
    "import numpy as np\n",
    "from os import listdir\n",
    "from os.path import isfile, join\n",
    "\n",
    "\n",
    "# Get the training data we previously made\n",
    "data_path = './faces/sayan/'\n",
    "onlyfiles = [f for f in listdir(data_path) if isfile(join(data_path, f))]\n",
    "\n",
    "# Create arrays for training data and labels\n",
    "Training_Data, Labels = [], []\n",
    "\n",
    "# Open training images in our datapath\n",
    "# Create a numpy array for training data\n",
    "for i, files in enumerate(onlyfiles):\n",
    "    image_path = data_path + onlyfiles[i]\n",
    "    images = cv2.imread(image_path, cv2.IMREAD_GRAYSCALE)\n",
    "    Training_Data.append(np.asarray(images, dtype=np.uint8))\n",
    "    Labels.append(i)\n",
    "\n",
    "# Create a numpy array for both training data and labels\n",
    "Labels = np.asarray(Labels, dtype=np.int32)\n",
    "\n",
    "# Initialize facial recognizer\n",
    "# model = cv2.face.createLBPHFaceRecognizer()\n",
    "# NOTE: For OpenCV 3.0 use cv2.face.createLBPHFaceRecognizer()\n",
    "# pip install opencv-contrib-python\n",
    "# model = cv2.createLBPHFaceRecognizer()\n",
    "\n",
    "\n",
    "sayan_model  = cv2.face_LBPHFaceRecognizer.create()\n",
    "# Let's train our model \n",
    "sayan_model.train(np.asarray(Training_Data), np.asarray(Labels))\n",
    "print(\"Model#2 trained sucessefully\")\n"
   ]
  },
  {
   "cell_type": "markdown",
   "metadata": {},
   "source": [
    "### Step 4 - Run Our Facial Recognition"
   ]
  },
  {
   "cell_type": "code",
   "execution_count": 4,
   "metadata": {},
   "outputs": [
    {
     "name": "stderr",
     "output_type": "stream",
     "text": [
      "<>:12: SyntaxWarning: \"is\" with a literal. Did you mean \"==\"?\n",
      "<>:12: SyntaxWarning: \"is\" with a literal. Did you mean \"==\"?\n",
      "<ipython-input-4-a71e02eeceec>:12: SyntaxWarning: \"is\" with a literal. Did you mean \"==\"?\n",
      "  if faces is ():\n"
     ]
    },
    {
     "name": "stdout",
     "output_type": "stream",
     "text": [
      "\t\t\t==============Instance launch Successfully======================\n",
      "\t\t\t==============V0lume created Successfully======================\n",
      "\t\t\t\n",
      "======================= Mail Successfully Sended ==================================\n",
      "\n",
      "Message Sent Successfully..\n"
     ]
    }
   ],
   "source": [
    "import cv2\n",
    "import numpy as np\n",
    "import os\n",
    "import time\n",
    "face_classifier = cv2.CascadeClassifier('haarcascade_frontalface_default.xml')\n",
    "\n",
    "def face_detector(img, size=0.5):\n",
    "    \n",
    "    # Convert image to grayscale\n",
    "    gray = cv2.cvtColor(img,cv2.COLOR_BGR2GRAY)\n",
    "    faces = face_classifier.detectMultiScale(gray, 1.3, 5)\n",
    "    if faces is ():\n",
    "        return img, []\n",
    "    \n",
    "    \n",
    "    for (x,y,w,h) in faces:\n",
    "        cv2.rectangle(img,(x,y),(x+w,y+h),(0,255,255),2)\n",
    "        roi = img[y:y+h, x:x+w]\n",
    "        roi = cv2.resize(roi, (200, 200))\n",
    "    return img, roi\n",
    "\n",
    "\n",
    "\n",
    "#open webcam\n",
    "cap = cv2.VideoCapture(0)\n",
    "# Owner=False\n",
    "# Visitor=False\n",
    "\n",
    "\n",
    "while True:\n",
    "    ret, frame = cap.read()\n",
    "    image, face = face_detector(frame)\n",
    "    try:\n",
    "        face = cv2.cvtColor(face, cv2.COLOR_BGR2GRAY)\n",
    "        # Pass face to prediction model\n",
    "        # \"results\" comprises of a tuple containing the label and the confidence value\n",
    "        \n",
    "        #lOADING 2 models at same time and asking them to predict\n",
    "        \n",
    "        results = sayan_model.predict(face)\n",
    "        results2 = elon_model.predict(face)        \n",
    "        \n",
    "        if results2[1] < 50:\n",
    "            confidence2 = int( 100 * (1 - (results2[1])/400) )\n",
    "            display_string = str(confidence2) + '% Confident it is Elon'  \n",
    "            \n",
    "        elif results[1] < 50:\n",
    "            confidence = int( 100 * (1 - (results[1])/400) )\n",
    "            display_string = str(confidence) + '% Confident it is Sayan'\n",
    "        \n",
    "        \n",
    "        else: \n",
    "            cv2.putText(image, \"I dont know u\", (250, 450), cv2.FONT_HERSHEY_COMPLEX, 1, (0,0,255), 2)\n",
    "            cv2.imshow('Face Recognition', image )\n",
    "        cv2.putText(image, display_string, (100, 120), cv2.FONT_HERSHEY_COMPLEX, 1, (255,120,150), 2)\n",
    "        \n",
    "        if confidence > 85 and results[1] < 50:\n",
    "            cv2.putText(image, \"Hey Sayan\", (250, 450), cv2.FONT_HERSHEY_COMPLEX, 1, (255,120,150), 2)\n",
    "            cv2.imshow('Face Recognition', image )\n",
    "            Owner=True\n",
    "\n",
    "            \n",
    "            \n",
    "        elif confidence2 > 85:\n",
    "            cv2.putText(image, \"Hey Elon\", (250, 450), cv2.FONT_HERSHEY_COMPLEX, 1, (255,120,150), 2)\n",
    "            cv2.imshow('Face Recognition', image )\n",
    "            Visitor=True\n",
    "\n",
    "            \n",
    "        else: \n",
    "            cv2.putText(image, \"I dont know U\", (250, 450), cv2.FONT_HERSHEY_COMPLEX, 1, (0,0,255), 2)\n",
    "            cv2.imshow('Face Recognition', image )\n",
    "       \n",
    "    except:\n",
    "        cv2.putText(image, \"No Face Found\", (220, 120) , cv2.FONT_HERSHEY_COMPLEX, 1, (0,0,255), 2)\n",
    "        cv2.putText(image, \"looking for face\", (250, 450), cv2.FONT_HERSHEY_COMPLEX, 1, (0,0,255), 2)\n",
    "        cv2.imshow('Face Recognition', image )\n",
    "        pass\n",
    "        \n",
    "    if cv2.waitKey(1) == 13: #13 is the Enter Key\n",
    "        break\n",
    "        \n",
    "cap.release()\n",
    "cv2.destroyAllWindows()\n",
    "if Owner==True:   \n",
    "# #this turns true if camera detects owner.\n",
    "# #     print(\"Executing terraform script...\")\n",
    "# #     os.system(\"terraform init\")\n",
    "# #     print(\"dir initiallized...\")\n",
    "# #     os.system(\"terraform apply --auto-approve\")\n",
    "# #     print(\"Your AWS infrastructure has been created.Open Webconsole to verify!\")\n",
    "    os.system(\"aws ec2 run-instances --image-id ami-0ad704c126371a549  --instance-type t2.micro  --count 1  --subnet-id subnet-503e3738  --key-name awsclasskey  \")\n",
    "    print(\"\\t\\t\\t==============Instance launch Successfully======================\")\n",
    "    os.system(\"aws ec2 create-volume --availability-zone ap-south-1a --volume-type gp2 --size 1\")\n",
    "    print(\"\\t\\t\\t==============V0lume created Successfully======================\")\n",
    "\n",
    "         \n",
    "    \n",
    "if Visitor==True:  #this turns true when it detects visitor. In my case i gave the sample data of Elon.\n",
    "    mail()\n",
    "    whatsapp()"
   ]
  },
  {
   "cell_type": "code",
   "execution_count": null,
   "metadata": {},
   "outputs": [],
   "source": []
  },
  {
   "cell_type": "code",
   "execution_count": null,
   "metadata": {},
   "outputs": [],
   "source": []
  }
 ],
 "metadata": {
  "kernelspec": {
   "display_name": "Python 3",
   "language": "python",
   "name": "python3"
  },
  "language_info": {
   "codemirror_mode": {
    "name": "ipython",
    "version": 3
   },
   "file_extension": ".py",
   "mimetype": "text/x-python",
   "name": "python",
   "nbconvert_exporter": "python",
   "pygments_lexer": "ipython3",
   "version": "3.8.3"
  }
 },
 "nbformat": 4,
 "nbformat_minor": 1
}
